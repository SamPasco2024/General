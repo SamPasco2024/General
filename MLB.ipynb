{
 "cells": [
  {
   "cell_type": "code",
   "execution_count": 1,
   "id": "8bbf94f6-14c6-4537-9743-ae8951ddb0c6",
   "metadata": {
    "tags": []
   },
   "outputs": [],
   "source": [
    "#Python Imports\n",
    "import os\n",
    "import sys\n",
    "import csv\n",
    "import json\n",
    "import time\n",
    "import itertools\n",
    "import numpy as np\n",
    "import pandas as pd\n",
    "from selenium import webdriver\n",
    "from IPython.display import Image\n",
    "from selenium.webdriver.common.by import By\n",
    "from selenium.webdriver.chrome.options import Options\n",
    "from selenium.webdriver.chrome.service import Service\n",
    "from selenium.webdriver.common.keys import Keys\n",
    "\n",
    "\n",
    "#Selenium Imports\n",
    "chrome_options = Options()\n",
    "chrome_options.add_argument(\"--headless\") # Ensure GUI is off\n",
    "chrome_options.add_argument(\"--no-sandbox\")\n",
    "browser = webdriver.Chrome(options=chrome_options)"
   ]
  },
  {
   "cell_type": "code",
   "execution_count": 2,
   "id": "04e12869-fd5f-46a4-808e-ed8baa19cb99",
   "metadata": {},
   "outputs": [],
   "source": [
    "url = \"https://www.mlb.com/news\"\n",
    "browser.get(url)"
   ]
  },
  {
   "cell_type": "code",
   "execution_count": 3,
   "id": "36e5aec2-c92d-44cd-a94c-1716e7f5c47c",
   "metadata": {
    "tags": []
   },
   "outputs": [],
   "source": [
    "selection=browser.find_element(By.CLASS_NAME, 'template-article__content-inner')\n",
    "articles = selection.find_elements(By.CLASS_NAME, 'l-grid__content--card')\n",
    "\n",
    "stories = \"\"\n",
    "\n",
    "for article in articles:\n",
    "    headline = article.find_element(By.CLASS_NAME, 'article-item__headline').get_attribute(\"textContent\")\n",
    "    text = article.find_element(By.CLASS_NAME, 'article-item__preview').get_attribute(\"textContent\")\n",
    "    stories += headline.strip() + \" STORY: \" + text.strip().replace('\\n', '') + \"\\n\"\n",
    "    #print(text)"
   ]
  },
  {
   "cell_type": "code",
   "execution_count": 4,
   "id": "d6cb4d91-feda-413b-ad0c-552fadaed7fc",
   "metadata": {
    "tags": []
   },
   "outputs": [],
   "source": [
    "with open('mlb_dot_com_headlines.txt', 'w') as file:\n",
    "    file.write(stories)"
   ]
  },
  {
   "cell_type": "markdown",
   "id": "39b060f7-ac71-4687-80dc-2f012421f640",
   "metadata": {
    "tags": []
   },
   "source": [
    "## Scrape the entire article"
   ]
  },
  {
   "cell_type": "code",
   "execution_count": 5,
   "id": "9d81cc33-cf58-4035-a150-b0dda85a1aac",
   "metadata": {
    "tags": []
   },
   "outputs": [
    {
     "data": {
      "text/plain": [
       "'\\nall_article = \"\"\\n\\nfor article in articles:\\n    browser.execute_script(\"window.scrollTo(0,document.body.scrollHeight)\")\\n\\n    #bottom = article.find_element(By.CLASS_NAME, \\'article-item__bottom\\')\\n    \\n\\n    more_container = article.find_element(By.CLASS_NAME, \\'article-item__more-container\\')\\n    continue_button = more_container.find_element(By.TAG_NAME, \\'button\\')\\n    continue_button.click()\\n    time.sleep(2)\\n    \\n    #body_text = bottom.find_element(By.TAG_NAME, \\'div\\').get_attribute(\"textContent\")\\n    #print(\"**\", body_text)\\n    \\n    \\n    body = article.find_element(By.CLASS_NAME, \\'article-item__body\\')\\n    #div = body.find_element(By.TAG_NAME, \\'div\\')\\n    ps = body.find_elements(By.TAG_NAME, \\'p\\')\\n    for p in ps:\\n        print(p.get_attribute(\"textContent\"))\\n        all_article += p.get_attribute(\"textContent\")\\n'"
      ]
     },
     "execution_count": 5,
     "metadata": {},
     "output_type": "execute_result"
    }
   ],
   "source": [
    "\"\"\"\n",
    "all_article = \"\"\n",
    "\n",
    "for article in articles:\n",
    "    browser.execute_script(\"window.scrollTo(0,document.body.scrollHeight)\")\n",
    "\n",
    "    #bottom = article.find_element(By.CLASS_NAME, 'article-item__bottom')\n",
    "    \n",
    "\n",
    "    more_container = article.find_element(By.CLASS_NAME, 'article-item__more-container')\n",
    "    continue_button = more_container.find_element(By.TAG_NAME, 'button')\n",
    "    continue_button.click()\n",
    "    time.sleep(2)\n",
    "    \n",
    "    #body_text = bottom.find_element(By.TAG_NAME, 'div').get_attribute(\"textContent\")\n",
    "    #print(\"**\", body_text)\n",
    "    \n",
    "    \n",
    "    body = article.find_element(By.CLASS_NAME, 'article-item__body')\n",
    "    #div = body.find_element(By.TAG_NAME, 'div')\n",
    "    ps = body.find_elements(By.TAG_NAME, 'p')\n",
    "    for p in ps:\n",
    "        print(p.get_attribute(\"textContent\"))\n",
    "        all_article += p.get_attribute(\"textContent\")\n",
    "\"\"\""
   ]
  }
 ],
 "metadata": {
  "kernelspec": {
   "display_name": "Python 3 (ipykernel)",
   "language": "python",
   "name": "python3"
  },
  "language_info": {
   "codemirror_mode": {
    "name": "ipython",
    "version": 3
   },
   "file_extension": ".py",
   "mimetype": "text/x-python",
   "name": "python",
   "nbconvert_exporter": "python",
   "pygments_lexer": "ipython3",
   "version": "3.11.2"
  }
 },
 "nbformat": 4,
 "nbformat_minor": 5
}
