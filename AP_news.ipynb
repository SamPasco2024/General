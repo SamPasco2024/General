{
 "cells": [
  {
   "cell_type": "code",
   "execution_count": 1,
   "id": "12b990fd-e85e-44c3-a025-b33979da6675",
   "metadata": {
    "tags": []
   },
   "outputs": [],
   "source": [
    "#Python Imports\n",
    "import os\n",
    "import sys\n",
    "import csv\n",
    "import json\n",
    "import time\n",
    "import itertools\n",
    "import numpy as np\n",
    "import pandas as pd\n",
    "from selenium import webdriver\n",
    "from IPython.display import Image\n",
    "from selenium.webdriver.common.by import By\n",
    "from selenium.webdriver.chrome.options import Options\n",
    "from selenium.webdriver.chrome.service import Service\n",
    "from selenium.webdriver.common.keys import Keys\n",
    "\n",
    "\n",
    "#Selenium Imports\n",
    "chrome_options = Options()\n",
    "chrome_options.add_argument(\"--headless\") # Ensure GUI is off\n",
    "chrome_options.add_argument(\"--no-sandbox\")\n",
    "browser = webdriver.Chrome(options=chrome_options)"
   ]
  },
  {
   "cell_type": "code",
   "execution_count": 2,
   "id": "dd6a7b25-6ac7-438c-9538-9f246dbfd764",
   "metadata": {
    "tags": []
   },
   "outputs": [],
   "source": [
    "url = \"https://apnews.com/hub/mlb?utm_source=apnewsnav&utm_medium=hub\"\n",
    "browser.get(url)"
   ]
  },
  {
   "cell_type": "code",
   "execution_count": 3,
   "id": "c05486ef-1183-4170-95aa-99b85c173a18",
   "metadata": {
    "tags": []
   },
   "outputs": [],
   "source": [
    "selection=browser.find_element(By.CLASS_NAME, 'feed')\n",
    "articles = selection.find_elements(By.CLASS_NAME, 'FeedCard')\n",
    "\n",
    "stories = \"\"\n",
    "\n",
    "for article in articles:\n",
    "    headline = article.find_element(By.CLASS_NAME, 'CardHeadline').get_attribute(\"textContent\")\n",
    "    text = article.find_element(By.CLASS_NAME, 'content').get_attribute(\"textContent\")\n",
    "    stories += headline.strip() + text.strip().replace('\\n', '') + \"\\n\"\n",
    "    #print(stories)"
   ]
  },
  {
   "cell_type": "code",
   "execution_count": 4,
   "id": "ff650b4b-2087-4bad-91a6-bb654798cce6",
   "metadata": {
    "tags": []
   },
   "outputs": [],
   "source": [
    "with open('ap_news.txt', 'w') as file:\n",
    "    file.write(stories)"
   ]
  }
 ],
 "metadata": {
  "kernelspec": {
   "display_name": "Python 3 (ipykernel)",
   "language": "python",
   "name": "python3"
  },
  "language_info": {
   "codemirror_mode": {
    "name": "ipython",
    "version": 3
   },
   "file_extension": ".py",
   "mimetype": "text/x-python",
   "name": "python",
   "nbconvert_exporter": "python",
   "pygments_lexer": "ipython3",
   "version": "3.11.2"
  }
 },
 "nbformat": 4,
 "nbformat_minor": 5
}
